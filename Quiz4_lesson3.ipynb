{
  "nbformat": 4,
  "nbformat_minor": 0,
  "metadata": {
    "colab": {
      "name": "Quiz4_lesson3.ipynb",
      "provenance": [],
      "authorship_tag": "ABX9TyOuzBPbBNaMmqu/h8YShCoe",
      "include_colab_link": true
    },
    "kernelspec": {
      "name": "python3",
      "display_name": "Python 3"
    }
  },
  "cells": [
    {
      "cell_type": "markdown",
      "metadata": {
        "id": "view-in-github",
        "colab_type": "text"
      },
      "source": [
        "<a href=\"https://colab.research.google.com/github/nerthiga/Introduction_to_Python_Udacity/blob/main/Quiz4_lesson3.ipynb\" target=\"_parent\"><img src=\"https://colab.research.google.com/assets/colab-badge.svg\" alt=\"Open In Colab\"/></a>"
      ]
    },
    {
      "cell_type": "code",
      "metadata": {
        "colab": {
          "base_uri": "https://localhost:8080/"
        },
        "id": "8e4PDK7qfGJ1",
        "outputId": "4c2d2a93-d195-4008-c59b-a8bf4bd51a94"
      },
      "source": [
        "## Please use this space to test and run your code\n",
        "num_list = [422, 136, 524, 85, 96, 719, 85, 92, 10, 17, 312, 542, 87, 23, 86, 191, 116, 35, 173, 45, 149, 59, 84, 69, 113, 166]\n",
        "\n",
        "odd_num=0\n",
        "sum=0\n",
        "i=0\n",
        "\n",
        "while (odd_num<5) and (i<len(num_list)):\n",
        "    if num_list[i] % 2 != 0:\n",
        "        sum+=num_list[i]\n",
        "        odd_num+=1\n",
        "    i+=1\n",
        "    \n",
        "print(\"sum is {}\".format(sum))    \n",
        "print(\"odd numbers are {}\".format(odd_num))"
      ],
      "execution_count": 1,
      "outputs": [
        {
          "output_type": "stream",
          "text": [
            "sum is 993\n",
            "odd numbers are 5\n"
          ],
          "name": "stdout"
        }
      ]
    },
    {
      "cell_type": "code",
      "metadata": {
        "colab": {
          "base_uri": "https://localhost:8080/"
        },
        "id": "RCf1VnUuRObY",
        "outputId": "7aa9da02-add9-481b-f135-d82f737a3214"
      },
      "source": [
        "headlines = [\"Local Bear Eaten by Man\",\n",
        "             \"Legislature Announces New Laws\",\n",
        "             \"Peasant Discovers Violence Inherent in System\",\n",
        "             \"Cat Rescues Fireman Stuck in Tree\",\n",
        "             \"Brave Knight Runs Away\",\n",
        "             \"Papperbok Review: Totally Triffic\"]\n",
        "\n",
        "news_ticker = \"\"\n",
        "# write your loop here\n",
        "for headline in headlines:\n",
        "    news_ticker+=headline + \" \"\n",
        "    if len(news_ticker)>=140:\n",
        "        news_ticker=news_ticker[:140]\n",
        "        break\n",
        "\n",
        "print(news_ticker)"
      ],
      "execution_count": 1,
      "outputs": [
        {
          "output_type": "stream",
          "text": [
            "Local Bear Eaten by Man Legislature Announces New Laws Peasant Discovers Violence Inherent in System Cat Rescues Fireman Stuck in Tree Brave\n"
          ],
          "name": "stdout"
        }
      ]
    },
    {
      "cell_type": "code",
      "metadata": {
        "colab": {
          "base_uri": "https://localhost:8080/"
        },
        "id": "bPTOufKjYCaY",
        "outputId": "74fd154a-806e-422a-b62c-dc5ae0086629"
      },
      "source": [
        "## Your code should check if each number in the list is a prime number\n",
        "check_prime = [26, 39, 51, 53, 57, 79, 85]\n",
        "\n",
        "## write your code here\n",
        "## HINT: You can use the modulo operator to find a factor\n",
        "for prime in check_prime:\n",
        "    for i in range(2,prime):\n",
        "        if prime%i==0:\n",
        "            print(\"{} is not a prime number because {} is a fctor of {}\".format(prime,i,prime))\n",
        "            break\n",
        "        if i==prime-1:\n",
        "            print(\"{} is a prime number\".format(prime))\n"
      ],
      "execution_count": 2,
      "outputs": [
        {
          "output_type": "stream",
          "text": [
            "26 is not a prime number because 2 is a fctor of 26\n",
            "39 is not a prime number because 3 is a fctor of 39\n",
            "51 is not a prime number because 3 is a fctor of 51\n",
            "53 is a prime number\n",
            "57 is not a prime number because 3 is a fctor of 57\n",
            "79 is a prime number\n",
            "85 is not a prime number because 5 is a fctor of 85\n"
          ],
          "name": "stdout"
        }
      ]
    },
    {
      "cell_type": "code",
      "metadata": {
        "colab": {
          "base_uri": "https://localhost:8080/"
        },
        "id": "eRrnwQLnxg6T",
        "outputId": "7e8ee351-42bd-4092-d6cb-f8cd9f05d37e"
      },
      "source": [
        "x_coord = [23, 53, 2, -12, 95, 103, 14, -5]\n",
        "y_coord = [677, 233, 405, 433, 905, 376, 432, 445]\n",
        "z_coord = [4, 16, -6, -42, 3, -6, 23, -1]\n",
        "labels = [\"F\", \"J\", \"A\", \"Q\", \"Y\", \"B\", \"W\", \"X\"]\n",
        "\n",
        "points = []\n",
        "# write your for loop here\n",
        "string=(zip(labels,x_coord,y_coord,z_coord))\n",
        "for i in string:\n",
        "    points.append(\"{}: {}, {}, {}\".format(*i))\n",
        "for point in points:\n",
        "    print(point)"
      ],
      "execution_count": 3,
      "outputs": [
        {
          "output_type": "stream",
          "text": [
            "F: 23, 677, 4\n",
            "J: 53, 233, 16\n",
            "A: 2, 405, -6\n",
            "Q: -12, 433, -42\n",
            "Y: 95, 905, 3\n",
            "B: 103, 376, -6\n",
            "W: 14, 432, 23\n",
            "X: -5, 445, -1\n"
          ],
          "name": "stdout"
        }
      ]
    },
    {
      "cell_type": "code",
      "metadata": {
        "colab": {
          "base_uri": "https://localhost:8080/"
        },
        "id": "62eTCiqCy3pi",
        "outputId": "97506890-ca44-49b0-87fe-d85fdb2d69d2"
      },
      "source": [
        "cast_names = [\"Barney\", \"Robin\", \"Ted\", \"Lily\", \"Marshall\"]\n",
        "cast_heights = [72, 68, 72, 66, 76]\n",
        "\n",
        "cast = dict(zip(cast_names,cast_heights))\n",
        "print(cast)"
      ],
      "execution_count": 4,
      "outputs": [
        {
          "output_type": "stream",
          "text": [
            "{'Barney': 72, 'Robin': 68, 'Ted': 72, 'Lily': 66, 'Marshall': 76}\n"
          ],
          "name": "stdout"
        }
      ]
    },
    {
      "cell_type": "code",
      "metadata": {
        "colab": {
          "base_uri": "https://localhost:8080/"
        },
        "id": "fsPW3_ej2gKM",
        "outputId": "43c9d310-d816-444a-c5b4-b1342f154522"
      },
      "source": [
        "cast = ((\"Barney\", 72), (\"Robin\", 68), (\"Ted\", 72), (\"Lily\", 66), (\"Marshall\", 76))\n",
        "\n",
        "# define names and heights here\n",
        "names, heights=zip(*cast)\n",
        "\n",
        "print(names)\n",
        "print(heights)\n"
      ],
      "execution_count": 5,
      "outputs": [
        {
          "output_type": "stream",
          "text": [
            "('Barney', 'Robin', 'Ted', 'Lily', 'Marshall')\n",
            "(72, 68, 72, 66, 76)\n"
          ],
          "name": "stdout"
        }
      ]
    },
    {
      "cell_type": "code",
      "metadata": {
        "colab": {
          "base_uri": "https://localhost:8080/"
        },
        "id": "uYIIYzm-4tX1",
        "outputId": "b56c30d6-7804-439c-9a88-b1ad59ff75c8"
      },
      "source": [
        "data = ((0, 1, 2), (3, 4, 5), (6, 7, 8), (9, 10, 11))\n",
        "\n",
        "data_transpose = tuple(zip(*data))\n",
        "print(data_transpose)"
      ],
      "execution_count": 6,
      "outputs": [
        {
          "output_type": "stream",
          "text": [
            "((0, 3, 6, 9), (1, 4, 7, 10), (2, 5, 8, 11))\n"
          ],
          "name": "stdout"
        }
      ]
    }
  ]
}