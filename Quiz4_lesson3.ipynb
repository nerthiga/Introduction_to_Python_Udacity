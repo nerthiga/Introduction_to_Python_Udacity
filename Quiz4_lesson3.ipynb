{
  "nbformat": 4,
  "nbformat_minor": 0,
  "metadata": {
    "colab": {
      "name": "Quiz4_lesson3.ipynb",
      "provenance": [],
      "authorship_tag": "ABX9TyPL4e3fexkXSde0pRaQ0/xH",
      "include_colab_link": true
    },
    "kernelspec": {
      "name": "python3",
      "display_name": "Python 3"
    }
  },
  "cells": [
    {
      "cell_type": "markdown",
      "metadata": {
        "id": "view-in-github",
        "colab_type": "text"
      },
      "source": [
        "<a href=\"https://colab.research.google.com/github/nerthiga/Introduction_to_Python_Udacity/blob/main/Quiz4_lesson3.ipynb\" target=\"_parent\"><img src=\"https://colab.research.google.com/assets/colab-badge.svg\" alt=\"Open In Colab\"/></a>"
      ]
    },
    {
      "cell_type": "code",
      "metadata": {
        "colab": {
          "base_uri": "https://localhost:8080/"
        },
        "id": "8e4PDK7qfGJ1",
        "outputId": "4c2d2a93-d195-4008-c59b-a8bf4bd51a94"
      },
      "source": [
        "## Please use this space to test and run your code\n",
        "num_list = [422, 136, 524, 85, 96, 719, 85, 92, 10, 17, 312, 542, 87, 23, 86, 191, 116, 35, 173, 45, 149, 59, 84, 69, 113, 166]\n",
        "\n",
        "odd_num=0\n",
        "sum=0\n",
        "i=0\n",
        "\n",
        "while (odd_num<5) and (i<len(num_list)):\n",
        "    if num_list[i] % 2 != 0:\n",
        "        sum+=num_list[i]\n",
        "        odd_num+=1\n",
        "    i+=1\n",
        "    \n",
        "print(\"sum is {}\".format(sum))    \n",
        "print(\"odd numbers are {}\".format(odd_num))"
      ],
      "execution_count": 1,
      "outputs": [
        {
          "output_type": "stream",
          "text": [
            "sum is 993\n",
            "odd numbers are 5\n"
          ],
          "name": "stdout"
        }
      ]
    }
  ]
}