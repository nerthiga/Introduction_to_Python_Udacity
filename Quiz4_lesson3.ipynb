{
  "nbformat": 4,
  "nbformat_minor": 0,
  "metadata": {
    "colab": {
      "name": "Quiz4_lesson3.ipynb",
      "provenance": [],
      "authorship_tag": "ABX9TyP6swLKhCP3HkNFzCrYS/OT",
      "include_colab_link": true
    },
    "kernelspec": {
      "name": "python3",
      "display_name": "Python 3"
    }
  },
  "cells": [
    {
      "cell_type": "markdown",
      "metadata": {
        "id": "view-in-github",
        "colab_type": "text"
      },
      "source": [
        "<a href=\"https://colab.research.google.com/github/nerthiga/Introduction_to_Python_Udacity/blob/main/Quiz4_lesson3.ipynb\" target=\"_parent\"><img src=\"https://colab.research.google.com/assets/colab-badge.svg\" alt=\"Open In Colab\"/></a>"
      ]
    },
    {
      "cell_type": "code",
      "metadata": {
        "colab": {
          "base_uri": "https://localhost:8080/"
        },
        "id": "XG_xpq_EKs93",
        "outputId": "f21a5768-3eea-421f-c0e0-380ce8bfb204"
      },
      "source": [
        "start_num = 10\n",
        "end_num = 50\n",
        "count_by = 5\n",
        "\n",
        "# write a while loop that uses break_num as the ongoing number to \n",
        "#   check against end_num\n",
        "break_num=start_num\n",
        "while break_num<end_num:\n",
        "    break_num+=count_by\n",
        "\n",
        "print(break_num)"
      ],
      "execution_count": 1,
      "outputs": [
        {
          "output_type": "stream",
          "text": [
            "50\n"
          ],
          "name": "stdout"
        }
      ]
    },
    {
      "cell_type": "code",
      "metadata": {
        "colab": {
          "base_uri": "https://localhost:8080/"
        },
        "id": "1us-HJFNUhEH",
        "outputId": "da325c27-b6fc-48a6-9832-857111af1f4a"
      },
      "source": [
        "start_num = 10\n",
        "end_num = 6\n",
        "count_by = 5 \n",
        "\n",
        "if end_num>start_num:\n",
        "    break_num=start_num\n",
        "    while break_num<end_num:\n",
        "       break_num+=count_by\n",
        "else:\n",
        "    break_num=\"Oops! Looks like your start value is greater than the end value. Please try again.\"\n",
        "    \n",
        "result=break_num      \n",
        "\n",
        "print(result)"
      ],
      "execution_count": 2,
      "outputs": [
        {
          "output_type": "stream",
          "text": [
            "Oops! Looks like your start value is greater than the end value. Please try again.\n"
          ],
          "name": "stdout"
        }
      ]
    },
    {
      "cell_type": "code",
      "metadata": {
        "colab": {
          "base_uri": "https://localhost:8080/"
        },
        "id": "Zg9tsH9mbeQD",
        "outputId": "fd745e9c-dae5-4abf-a6f4-ffa67fea9722"
      },
      "source": [
        "limit = 40\n",
        "\n",
        "# write your while loop here\n",
        "num=0\n",
        "while((num+1)**2)<limit:\n",
        "    num+=1\n",
        "nearest_square=num**2\n",
        "print(nearest_square)"
      ],
      "execution_count": 3,
      "outputs": [
        {
          "output_type": "stream",
          "text": [
            "36\n"
          ],
          "name": "stdout"
        }
      ]
    }
  ]
}