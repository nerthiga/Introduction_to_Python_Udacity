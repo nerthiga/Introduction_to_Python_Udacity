{
  "nbformat": 4,
  "nbformat_minor": 0,
  "metadata": {
    "colab": {
      "name": "Quiz4_lesson3.ipynb",
      "provenance": [],
      "authorship_tag": "ABX9TyPOY4ABakDm9DpS99YD2mo5",
      "include_colab_link": true
    },
    "kernelspec": {
      "name": "python3",
      "display_name": "Python 3"
    }
  },
  "cells": [
    {
      "cell_type": "markdown",
      "metadata": {
        "id": "view-in-github",
        "colab_type": "text"
      },
      "source": [
        "<a href=\"https://colab.research.google.com/github/nerthiga/Introduction_to_Python_Udacity/blob/main/Quiz4_lesson3.ipynb\" target=\"_parent\"><img src=\"https://colab.research.google.com/assets/colab-badge.svg\" alt=\"Open In Colab\"/></a>"
      ]
    },
    {
      "cell_type": "code",
      "metadata": {
        "colab": {
          "base_uri": "https://localhost:8080/"
        },
        "id": "bG6KgWhN6QOU",
        "outputId": "8eff1ac9-81de-435b-ff74-6f44d1f1d586"
      },
      "source": [
        "# number to find the factorial of\n",
        "number = 6   \n",
        "\n",
        "# start with our product equal to one\n",
        "product = 1\n",
        "\n",
        "# track the current number being multiplied\n",
        "current = 1\n",
        "\n",
        "# write your while loop here\n",
        "while current<=6:\n",
        "    # multiply the product so far by the current number\n",
        "    product=product*current\n",
        "    \n",
        "    # increment current with each iteration until it reaches number\n",
        "    current+=1\n",
        "\n",
        "\n",
        "# print the factorial of number\n",
        "print(product)"
      ],
      "execution_count": 1,
      "outputs": [
        {
          "output_type": "stream",
          "text": [
            "720\n"
          ],
          "name": "stdout"
        }
      ]
    },
    {
      "cell_type": "code",
      "metadata": {
        "colab": {
          "base_uri": "https://localhost:8080/"
        },
        "id": "Sr7VlsreJSZy",
        "outputId": "7a9383ac-95a3-4dc5-9868-5cef1513d1f2"
      },
      "source": [
        "# number to find the factorial of\n",
        "number = 6   \n",
        "\n",
        "# start with our product equal to one\n",
        "product = 1\n",
        "\n",
        "# write your for loop here\n",
        "for i in range(2,number+1):\n",
        "    product=product*i\n",
        "    \n",
        "# print the factorial of number\n",
        "print(product)"
      ],
      "execution_count": 2,
      "outputs": [
        {
          "output_type": "stream",
          "text": [
            "720\n"
          ],
          "name": "stdout"
        }
      ]
    }
  ]
}