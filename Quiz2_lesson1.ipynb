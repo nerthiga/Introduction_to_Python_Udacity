{
  "nbformat": 4,
  "nbformat_minor": 0,
  "metadata": {
    "colab": {
      "name": "Quiz2_lesson1.ipynb",
      "provenance": [],
      "authorship_tag": "ABX9TyP83HGkp3gWlak6PBLL95+Z",
      "include_colab_link": true
    },
    "kernelspec": {
      "name": "python3",
      "display_name": "Python 3"
    }
  },
  "cells": [
    {
      "cell_type": "markdown",
      "metadata": {
        "id": "view-in-github",
        "colab_type": "text"
      },
      "source": [
        "<a href=\"https://colab.research.google.com/github/nerthiga/Introduction_to_Python_Udacity/blob/main/Quiz2_lesson1.ipynb\" target=\"_parent\"><img src=\"https://colab.research.google.com/assets/colab-badge.svg\" alt=\"Open In Colab\"/></a>"
      ]
    },
    {
      "cell_type": "code",
      "metadata": {
        "colab": {
          "base_uri": "https://localhost:8080/"
        },
        "id": "uMiaBj6dUWLk",
        "outputId": "a5ebf2ad-f8a0-4216-f434-b2a09a36c437"
      },
      "source": [
        "# The current volume of a water reservoir (in cubic metres)\n",
        "reservoir_volume = 4.445e8\n",
        "# The amount of rainfall from a storm (in cubic metres)\n",
        "rainfall = 5e6\n",
        "\n",
        "# decrease the rainfall variable by 10% to account for runoff\n",
        "rainfall-=rainfall*10/100\n",
        "# add the rainfall variable to the reservoir_volume variable\n",
        "reservoir_volume+=rainfall\n",
        "# increase reservoir_volume by 5% to account for stormwater that flows\n",
        "# into the reservoir in the days following the storm\n",
        "reservoir_volume+=reservoir_volume*5/100\n",
        "# decrease reservoir_volume by 5% to account for evaporation\n",
        "reservoir_volume-=reservoir_volume*5/100\n",
        "# subtract 2.5e5 cubic metres from reservoir_volume to account for water\n",
        "# that's piped to arid regions.\n",
        "reservoir_volume-=2.5e5\n",
        "# print the new value of the reservoir_volume variable\n",
        "print(reservoir_volume)"
      ],
      "execution_count": 1,
      "outputs": [
        {
          "output_type": "stream",
          "text": [
            "447627500.0\n"
          ],
          "name": "stdout"
        }
      ]
    }
  ]
}