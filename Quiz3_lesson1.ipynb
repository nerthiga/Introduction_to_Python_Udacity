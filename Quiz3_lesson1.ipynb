{
  "nbformat": 4,
  "nbformat_minor": 0,
  "metadata": {
    "colab": {
      "name": "Quiz3_lesson1.ipynb",
      "provenance": [],
      "authorship_tag": "ABX9TyOJKSfJdPLBSBptM7rHzykU",
      "include_colab_link": true
    },
    "kernelspec": {
      "name": "python3",
      "display_name": "Python 3"
    }
  },
  "cells": [
    {
      "cell_type": "markdown",
      "metadata": {
        "id": "view-in-github",
        "colab_type": "text"
      },
      "source": [
        "<a href=\"https://colab.research.google.com/github/nerthiga/Introduction_to_Python_Udacity/blob/main/Quiz3_lesson1.ipynb\" target=\"_parent\"><img src=\"https://colab.research.google.com/assets/colab-badge.svg\" alt=\"Open In Colab\"/></a>"
      ]
    },
    {
      "cell_type": "code",
      "metadata": {
        "colab": {
          "base_uri": "https://localhost:8080/"
        },
        "id": "-Z75e_usertQ",
        "outputId": "79adf52c-f739-4a0e-ae62-0474fd764f47"
      },
      "source": [
        "sf_population, sf_area = 864816, 231.89\n",
        "rio_population, rio_area = 6453682, 486.5\n",
        "\n",
        "san_francisco_pop_density = sf_population/sf_area\n",
        "rio_de_janeiro_pop_density = rio_population/rio_area\n",
        "\n",
        "# Write code that prints True if San Francisco is denser than Rio, and False otherwise\n",
        "x=san_francisco_pop_density>rio_de_janeiro_pop_density\n",
        "print(x)"
      ],
      "execution_count": 1,
      "outputs": [
        {
          "output_type": "stream",
          "text": [
            "False\n"
          ],
          "name": "stdout"
        }
      ]
    },
    {
      "cell_type": "code",
      "metadata": {
        "colab": {
          "base_uri": "https://localhost:8080/"
        },
        "id": "_9iqyYfbpG9i",
        "outputId": "655f6222-4209-45bc-8b24-a22e427c02b8"
      },
      "source": [
        "username = \"Kinari\"\n",
        "timestamp = \"04:50\"\n",
        "url = \"http://petshop.com/pets/mammals/cats\"\n",
        "\n",
        "# TODO: print a log message using the variables above.\n",
        "# The message should have the same format as this one:\n",
        "# \"Yogesh accessed the site http://petshop.com/pets/reptiles/pythons at 16:20.\"\n",
        "print(username + \" accessed the site \" + url + \" at \" + timestamp + \".\")"
      ],
      "execution_count": 2,
      "outputs": [
        {
          "output_type": "stream",
          "text": [
            "Kinari accessed the site http://petshop.com/pets/mammals/cats at 04:50.\n"
          ],
          "name": "stdout"
        }
      ]
    },
    {
      "cell_type": "code",
      "metadata": {
        "colab": {
          "base_uri": "https://localhost:8080/"
        },
        "id": "No6xtr1Iyi3w",
        "outputId": "05ab65eb-fe28-459d-ba51-af039f4254e4"
      },
      "source": [
        "given_name = \"William\"\n",
        "middle_names = \"Bradley\"\n",
        "family_name = \"Pitt\"\n",
        "\n",
        "#todo: calculate how long this name is\n",
        "name_length = len(given_name) + len(middle_names) + len(family_name) + 2\n",
        "# Now we check to make sure that the name fits within the driving license character limit\n",
        "# Nothing you need to do here\n",
        "driving_license_character_limit = 28\n",
        "print(name_length <= driving_license_character_limit)"
      ],
      "execution_count": 3,
      "outputs": [
        {
          "output_type": "stream",
          "text": [
            "True\n"
          ],
          "name": "stdout"
        }
      ]
    }
  ]
}