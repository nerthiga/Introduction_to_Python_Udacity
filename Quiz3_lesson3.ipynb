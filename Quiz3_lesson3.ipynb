{
  "nbformat": 4,
  "nbformat_minor": 0,
  "metadata": {
    "colab": {
      "name": "Quiz3_lesson3.ipynb",
      "provenance": [],
      "authorship_tag": "ABX9TyOqVXeTPgF23CWlvI9eaMN5",
      "include_colab_link": true
    },
    "kernelspec": {
      "name": "python3",
      "display_name": "Python 3"
    }
  },
  "cells": [
    {
      "cell_type": "markdown",
      "metadata": {
        "id": "view-in-github",
        "colab_type": "text"
      },
      "source": [
        "<a href=\"https://colab.research.google.com/github/nerthiga/Introduction_to_Python_Udacity/blob/main/Quiz3_lesson3.ipynb\" target=\"_parent\"><img src=\"https://colab.research.google.com/assets/colab-badge.svg\" alt=\"Open In Colab\"/></a>"
      ]
    },
    {
      "cell_type": "code",
      "metadata": {
        "colab": {
          "base_uri": "https://localhost:8080/"
        },
        "id": "CeQn_QJv8ayQ",
        "outputId": "93199e6e-d358-4be5-9e65-e522f721b3f8"
      },
      "source": [
        "book_title =  ['great', 'expectations','the', 'adventures', 'of', 'sherlock','holmes','the','great','gasby','hamlet','adventures','of','huckleberry','fin']\n",
        "\n",
        "#creating counters\n",
        "\n",
        "word_counter={}\n",
        "for word in book_title:\n",
        "    if word not in word_counter:\n",
        "        word_counter[word]=1\n",
        "    else:\n",
        "        word_counter[word]+=1\n",
        "print(word_counter)        "
      ],
      "execution_count": 1,
      "outputs": [
        {
          "output_type": "stream",
          "text": [
            "{'great': 2, 'expectations': 1, 'the': 2, 'adventures': 2, 'of': 2, 'sherlock': 1, 'holmes': 1, 'gasby': 1, 'hamlet': 1, 'huckleberry': 1, 'fin': 1}\n"
          ],
          "name": "stdout"
        }
      ]
    },
    {
      "cell_type": "code",
      "metadata": {
        "colab": {
          "base_uri": "https://localhost:8080/"
        },
        "id": "BoW51k1jD1Ze",
        "outputId": "139f3c83-7af2-42bf-a95c-bf3664ef3ca3"
      },
      "source": [
        "book_title =  ['great', 'expectations','the', 'adventures', 'of', 'sherlock','holmes','the','great','gasby','hamlet','adventures','of','huckleberry','fin']\n",
        "\n",
        "#using get()\n",
        "\n",
        "word_counter={}\n",
        "for word in book_title:\n",
        "    word_counter[word]=word_counter.get(word,0)+1\n",
        "print(word_counter)    "
      ],
      "execution_count": 2,
      "outputs": [
        {
          "output_type": "stream",
          "text": [
            "{'great': 2, 'expectations': 1, 'the': 2, 'adventures': 2, 'of': 2, 'sherlock': 1, 'holmes': 1, 'gasby': 1, 'hamlet': 1, 'huckleberry': 1, 'fin': 1}\n"
          ],
          "name": "stdout"
        }
      ]
    },
    {
      "cell_type": "code",
      "metadata": {
        "colab": {
          "base_uri": "https://localhost:8080/"
        },
        "id": "wtf9FWnhmd66",
        "outputId": "db995516-d9b2-49b4-aaea-b2b4e3d1afa6"
      },
      "source": [
        "# You would like to count the number of fruits in your basket. \n",
        "# In order to do this, you have the following dictionary and list of\n",
        "# fruits.  Use the dictionary and list to count the total number\n",
        "# of fruits, but you do not want to count the other items in your basket.\n",
        "\n",
        "result = 0\n",
        "basket_items = {'apples': 4, 'oranges': 19, 'kites': 3, 'sandwiches': 8}\n",
        "fruits = ['apples', 'oranges', 'pears', 'peaches', 'grapes', 'bananas']\n",
        "\n",
        "#Iterate through the dictionary\n",
        "for key,value in basket_items.items():\n",
        "#if the key is in the list of fruits, add the value (number of fruits) to result\n",
        "    if key in fruits:\n",
        "        result=result+value\n",
        "\n",
        "print(result)"
      ],
      "execution_count": 1,
      "outputs": [
        {
          "output_type": "stream",
          "text": [
            "23\n"
          ],
          "name": "stdout"
        }
      ]
    },
    {
      "cell_type": "code",
      "metadata": {
        "colab": {
          "base_uri": "https://localhost:8080/"
        },
        "id": "-OjsLEnzoQRD",
        "outputId": "a7b51fc0-3c4b-4fa5-ed4f-5ebc0ddbeed6"
      },
      "source": [
        "#Example 1\n",
        "\n",
        "result = 0\n",
        "basket_items = {'pears': 5, 'grapes': 19, 'kites': 3, 'sandwiches': 8, 'bananas': 4}\n",
        "fruits = ['apples', 'oranges', 'pears', 'peaches', 'grapes', 'bananas']\n",
        "for key,value in basket_items.items():\n",
        "    if key in fruits:\n",
        "        result=result+value\n",
        "\n",
        "print(result)\n",
        "\n",
        "#Example 2\n",
        "\n",
        "result = 0\n",
        "basket_items = {'peaches': 5, 'lettuce': 2, 'kites': 3, 'sandwiches': 8, 'pears': 4}\n",
        "fruits = ['apples', 'oranges', 'pears', 'peaches', 'grapes', 'bananas']\n",
        "for key,value in basket_items.items():\n",
        "    if key in fruits:\n",
        "        result=result+value\n",
        "\n",
        "print(result)\n",
        "\n",
        "\n",
        "#Example 3\n",
        "\n",
        "result = 0\n",
        "basket_items = {'lettuce': 2, 'kites': 3, 'sandwiches': 8, 'pears': 4, 'bears': 10}\n",
        "fruits = ['apples', 'oranges', 'pears', 'peaches', 'grapes', 'bananas']\n",
        "for key,value in basket_items.items():\n",
        "    if key in fruits:\n",
        "        result=result+value\n",
        "\n",
        "print(result)\n"
      ],
      "execution_count": 2,
      "outputs": [
        {
          "output_type": "stream",
          "text": [
            "28\n",
            "9\n",
            "4\n"
          ],
          "name": "stdout"
        }
      ]
    }
  ]
}