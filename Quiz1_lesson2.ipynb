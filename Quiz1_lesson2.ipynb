{
  "nbformat": 4,
  "nbformat_minor": 0,
  "metadata": {
    "colab": {
      "name": "Quiz1_lesson2.ipynb",
      "provenance": [],
      "authorship_tag": "ABX9TyMuapIm3DxsR1GkxRUxz1n9",
      "include_colab_link": true
    },
    "kernelspec": {
      "name": "python3",
      "display_name": "Python 3"
    }
  },
  "cells": [
    {
      "cell_type": "markdown",
      "metadata": {
        "id": "view-in-github",
        "colab_type": "text"
      },
      "source": [
        "<a href=\"https://colab.research.google.com/github/nerthiga/Introduction_to_Python_Udacity/blob/main/Quiz1_lesson2.ipynb\" target=\"_parent\"><img src=\"https://colab.research.google.com/assets/colab-badge.svg\" alt=\"Open In Colab\"/></a>"
      ]
    },
    {
      "cell_type": "code",
      "metadata": {
        "colab": {
          "base_uri": "https://localhost:8080/"
        },
        "id": "udrTR1Jq0-CW",
        "outputId": "25ce1660-68bc-4bfe-89e4-4cea39d28985"
      },
      "source": [
        "month = 8\n",
        "days_in_month = [31,28,31,30,31,30,31,31,30,31,30,31]\n",
        "\n",
        "# use list indexing to determine the number of days in month\n",
        "num_days = days_in_month[7]\n",
        "\n",
        "print(num_days)"
      ],
      "execution_count": 1,
      "outputs": [
        {
          "output_type": "stream",
          "text": [
            "31\n"
          ],
          "name": "stdout"
        }
      ]
    },
    {
      "cell_type": "code",
      "metadata": {
        "colab": {
          "base_uri": "https://localhost:8080/"
        },
        "id": "m6Cj29n42Lnb",
        "outputId": "d5495f2b-7765-4a4a-a009-4209fca625e4"
      },
      "source": [
        "eclipse_dates = ['June 21, 2001', 'December 4, 2002', 'November 23, 2003',\n",
        "                 'March 29, 2006', 'August 1, 2008', 'July 22, 2009',\n",
        "                 'July 11, 2010', 'November 13, 2012', 'March 20, 2015',\n",
        "                 'March 9, 2016']\n",
        "                 \n",
        "                 \n",
        "# TODO: Modify this line so it prints the last three elements of the list\n",
        "print(eclipse_dates [-3: ])"
      ],
      "execution_count": 2,
      "outputs": [
        {
          "output_type": "stream",
          "text": [
            "['November 13, 2012', 'March 20, 2015', 'March 9, 2016']\n"
          ],
          "name": "stdout"
        }
      ]
    },
    {
      "cell_type": "code",
      "metadata": {
        "colab": {
          "base_uri": "https://localhost:8080/"
        },
        "id": "cJhf9iYgdUdZ",
        "outputId": "c5e013e6-7c7d-4046-a8ce-e5b15b77a122"
      },
      "source": [
        "# Use this playground to experiment with list methods, using Test Run\n",
        "names = [\"Carol\", \"Albert\", \"Ben\", \"Donna\"]\n",
        "names.append(\"Eugenia\")\n",
        "print(sorted(names))\n",
        "\n",
        "a = [1, 5, 8]\n",
        "b = [2, 6, 9, 10]\n",
        "c = [100, 200]\n",
        "print(max([len(a), len(b), len(c)]))\n",
        "print(min([len(a), len(b), len(c)]))"
      ],
      "execution_count": 1,
      "outputs": [
        {
          "output_type": "stream",
          "text": [
            "['Albert', 'Ben', 'Carol', 'Donna', 'Eugenia']\n",
            "4\n",
            "2\n"
          ],
          "name": "stdout"
        }
      ]
    },
    {
      "cell_type": "code",
      "metadata": {
        "colab": {
          "base_uri": "https://localhost:8080/"
        },
        "id": "02tz-ZTM7_6u",
        "outputId": "4721cc03-d5a1-453d-f6cb-2d8db2754619"
      },
      "source": [
        "arr = ['a', 'b', 'c', 'd', 'e', 'f', 'g']\n",
        "print(arr[0])\n",
        "\n",
        "print(arr[len(arr)-1])\n",
        "print(arr[-1])\n",
        "print(arr[2:5])\n",
        "print(arr[ :4])\n",
        "print(arr[5: ])"
      ],
      "execution_count": 2,
      "outputs": [
        {
          "output_type": "stream",
          "text": [
            "a\n",
            "g\n",
            "g\n",
            "['c', 'd', 'e']\n",
            "['a', 'b', 'c', 'd']\n",
            "['f', 'g']\n"
          ],
          "name": "stdout"
        }
      ]
    }
  ]
}