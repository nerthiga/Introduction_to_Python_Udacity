{
  "nbformat": 4,
  "nbformat_minor": 0,
  "metadata": {
    "colab": {
      "name": "Quiz1_lesson2.ipynb",
      "provenance": [],
      "authorship_tag": "ABX9TyNmAKHFvtdjDleAyM/aXqvC",
      "include_colab_link": true
    },
    "kernelspec": {
      "name": "python3",
      "display_name": "Python 3"
    }
  },
  "cells": [
    {
      "cell_type": "markdown",
      "metadata": {
        "id": "view-in-github",
        "colab_type": "text"
      },
      "source": [
        "<a href=\"https://colab.research.google.com/github/nerthiga/Introduction_to_Python_Udacity/blob/main/Quiz1_lesson2.ipynb\" target=\"_parent\"><img src=\"https://colab.research.google.com/assets/colab-badge.svg\" alt=\"Open In Colab\"/></a>"
      ]
    },
    {
      "cell_type": "code",
      "metadata": {
        "colab": {
          "base_uri": "https://localhost:8080/"
        },
        "id": "udrTR1Jq0-CW",
        "outputId": "25ce1660-68bc-4bfe-89e4-4cea39d28985"
      },
      "source": [
        "month = 8\n",
        "days_in_month = [31,28,31,30,31,30,31,31,30,31,30,31]\n",
        "\n",
        "# use list indexing to determine the number of days in month\n",
        "num_days = days_in_month[7]\n",
        "\n",
        "print(num_days)"
      ],
      "execution_count": 1,
      "outputs": [
        {
          "output_type": "stream",
          "text": [
            "31\n"
          ],
          "name": "stdout"
        }
      ]
    }
  ]
}