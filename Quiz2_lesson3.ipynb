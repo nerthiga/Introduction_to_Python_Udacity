{
  "nbformat": 4,
  "nbformat_minor": 0,
  "metadata": {
    "colab": {
      "name": "Quiz2_lesson3.ipynb",
      "provenance": [],
      "authorship_tag": "ABX9TyNVVJWhfGUimkQNrbO8U9s3",
      "include_colab_link": true
    },
    "kernelspec": {
      "name": "python3",
      "display_name": "Python 3"
    }
  },
  "cells": [
    {
      "cell_type": "markdown",
      "metadata": {
        "id": "view-in-github",
        "colab_type": "text"
      },
      "source": [
        "<a href=\"https://colab.research.google.com/github/nerthiga/Introduction_to_Python_Udacity/blob/main/Quiz2_lesson3.ipynb\" target=\"_parent\"><img src=\"https://colab.research.google.com/assets/colab-badge.svg\" alt=\"Open In Colab\"/></a>"
      ]
    },
    {
      "cell_type": "code",
      "metadata": {
        "colab": {
          "base_uri": "https://localhost:8080/"
        },
        "id": "7fNib0k5TcZW",
        "outputId": "d89a0c62-679b-4384-d018-f031735df7b8"
      },
      "source": [
        "points = 174  # use this as input for your submission\n",
        "\n",
        "# establish the default prize value to None\n",
        "prize=None\n",
        "\n",
        "# use the points value to assign prizes to the correct prize names\n",
        "if points<=50:\n",
        "    prize=\"a wooden rabbit\"\n",
        "if (points>=151) and (points<=180):\n",
        "    prize=\"a wafer-thin mint\"\n",
        "if (points>=181) and (points<=200):\n",
        "    prize=\"a penguin\"\n",
        "    \n",
        "\n",
        "# use the truth value of prize to assign result to the correct prize\n",
        "result=\"Congratulations! You won {}!\".format(prize)\n",
        "if prize:\n",
        "    print(result)\n",
        "else:\n",
        "    print(\"Oh dear, no prize this time.\")\n"
      ],
      "execution_count": 1,
      "outputs": [
        {
          "output_type": "stream",
          "text": [
            "Congratulations! You won a wafer-thin mint!\n"
          ],
          "name": "stdout"
        }
      ]
    },
    {
      "cell_type": "code",
      "metadata": {
        "colab": {
          "base_uri": "https://localhost:8080/"
        },
        "id": "p4vxG2RcjDg7",
        "outputId": "345d6fd0-9000-4b28-dfee-ccdec9a6abbb"
      },
      "source": [
        "sentence = [\"the\", \"quick\", \"brown\", \"fox\", \"jumped\", \"over\", \"the\", \"lazy\", \"dog\"]\n",
        "\n",
        "# Write a for loop to print out each word in the sentence list, one word per line\n",
        "for word in sentence:\n",
        "    print(word)"
      ],
      "execution_count": 3,
      "outputs": [
        {
          "output_type": "stream",
          "text": [
            "the\n",
            "quick\n",
            "brown\n",
            "fox\n",
            "jumped\n",
            "over\n",
            "the\n",
            "lazy\n",
            "dog\n"
          ],
          "name": "stdout"
        }
      ]
    },
    {
      "cell_type": "code",
      "metadata": {
        "colab": {
          "base_uri": "https://localhost:8080/"
        },
        "id": "VYZGhnpIki0A",
        "outputId": "90745cf0-6277-4730-9863-d5e47d571106"
      },
      "source": [
        "# Write a for loop using range() to print out multiples of 5 up to 30 inclusive\n",
        "for i in range(5,35,5):\n",
        "    print(i)"
      ],
      "execution_count": 4,
      "outputs": [
        {
          "output_type": "stream",
          "text": [
            "5\n",
            "10\n",
            "15\n",
            "20\n",
            "25\n",
            "30\n"
          ],
          "name": "stdout"
        }
      ]
    },
    {
      "cell_type": "code",
      "metadata": {
        "colab": {
          "base_uri": "https://localhost:8080/"
        },
        "id": "esOhkamAUNOD",
        "outputId": "acbd3f1e-699e-4b4e-9765-1c2f88045805"
      },
      "source": [
        "names = [\"Joey Tribbiani\", \"Monica Geller\", \"Chandler Bing\", \"Phoebe Buffay\"]\n",
        "usernames = []\n",
        "\n",
        "# write your for loop here\n",
        "\n",
        "for name in names:\n",
        "    usernames.append(name.lower().replace(' ','_'))\n",
        "    \n",
        "print(usernames)"
      ],
      "execution_count": 1,
      "outputs": [
        {
          "output_type": "stream",
          "text": [
            "['joey_tribbiani', 'monica_geller', 'chandler_bing', 'phoebe_buffay']\n"
          ],
          "name": "stdout"
        }
      ]
    }
  ]
}