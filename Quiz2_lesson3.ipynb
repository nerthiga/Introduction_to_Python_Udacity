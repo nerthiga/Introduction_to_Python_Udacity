{
  "nbformat": 4,
  "nbformat_minor": 0,
  "metadata": {
    "colab": {
      "name": "Quiz2_lesson3.ipynb",
      "provenance": [],
      "authorship_tag": "ABX9TyP+kcBqnU2uSAswVrcBP9RH",
      "include_colab_link": true
    },
    "kernelspec": {
      "name": "python3",
      "display_name": "Python 3"
    }
  },
  "cells": [
    {
      "cell_type": "markdown",
      "metadata": {
        "id": "view-in-github",
        "colab_type": "text"
      },
      "source": [
        "<a href=\"https://colab.research.google.com/github/nerthiga/Introduction_to_Python_Udacity/blob/main/Quiz2_lesson3.ipynb\" target=\"_parent\"><img src=\"https://colab.research.google.com/assets/colab-badge.svg\" alt=\"Open In Colab\"/></a>"
      ]
    },
    {
      "cell_type": "code",
      "metadata": {
        "colab": {
          "base_uri": "https://localhost:8080/"
        },
        "id": "7fNib0k5TcZW",
        "outputId": "d89a0c62-679b-4384-d018-f031735df7b8"
      },
      "source": [
        "points = 174  # use this as input for your submission\n",
        "\n",
        "# establish the default prize value to None\n",
        "prize=None\n",
        "\n",
        "# use the points value to assign prizes to the correct prize names\n",
        "if points<=50:\n",
        "    prize=\"a wooden rabbit\"\n",
        "if (points>=151) and (points<=180):\n",
        "    prize=\"a wafer-thin mint\"\n",
        "if (points>=181) and (points<=200):\n",
        "    prize=\"a penguin\"\n",
        "    \n",
        "\n",
        "# use the truth value of prize to assign result to the correct prize\n",
        "result=\"Congratulations! You won {}!\".format(prize)\n",
        "if prize:\n",
        "    print(result)\n",
        "else:\n",
        "    print(\"Oh dear, no prize this time.\")\n"
      ],
      "execution_count": 1,
      "outputs": [
        {
          "output_type": "stream",
          "text": [
            "Congratulations! You won a wafer-thin mint!\n"
          ],
          "name": "stdout"
        }
      ]
    },
    {
      "cell_type": "code",
      "metadata": {
        "colab": {
          "base_uri": "https://localhost:8080/"
        },
        "id": "p4vxG2RcjDg7",
        "outputId": "c9986678-0108-41a3-f49d-5005944013aa"
      },
      "source": [
        "sentence = [\"the\", \"quick\", \"brown\", \"fox\", \"jumped\", \"over\", \"the\", \"lazy\", \"dog\"]\n",
        "\n",
        "# Write a for loop to print out each word in the sentence list, one word per line\n",
        "for word in sentence:\n",
        "    print(word)"
      ],
      "execution_count": 2,
      "outputs": [
        {
          "output_type": "stream",
          "text": [
            "the\n",
            "quick\n",
            "brown\n",
            "fox\n",
            "jumped\n",
            "over\n",
            "the\n",
            "lazy\n",
            "dog\n"
          ],
          "name": "stdout"
        }
      ]
    }
  ]
}