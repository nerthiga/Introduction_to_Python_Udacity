{
  "nbformat": 4,
  "nbformat_minor": 0,
  "metadata": {
    "colab": {
      "name": "Quiz1_lesson4.ipynb",
      "provenance": [],
      "authorship_tag": "ABX9TyOkCocORwZTu7SX/KvO0QMe",
      "include_colab_link": true
    },
    "kernelspec": {
      "name": "python3",
      "display_name": "Python 3"
    }
  },
  "cells": [
    {
      "cell_type": "markdown",
      "metadata": {
        "id": "view-in-github",
        "colab_type": "text"
      },
      "source": [
        "<a href=\"https://colab.research.google.com/github/nerthiga/Introduction_to_Python_Udacity/blob/main/Quiz1_lesson4.ipynb\" target=\"_parent\"><img src=\"https://colab.research.google.com/assets/colab-badge.svg\" alt=\"Open In Colab\"/></a>"
      ]
    },
    {
      "cell_type": "code",
      "metadata": {
        "colab": {
          "base_uri": "https://localhost:8080/"
        },
        "id": "9vxd7rdPz_Nm",
        "outputId": "d7feee98-8c97-49bd-fad2-ce30023c17af"
      },
      "source": [
        "# write your function here\n",
        "def population_density(population,land_area):\n",
        "    return population/land_area\n",
        "\n",
        "\n",
        "# test cases for your function\n",
        "test1 = population_density(10, 1)\n",
        "expected_result1 = 10\n",
        "print(\"expected result: {}, actual result: {}\".format(expected_result1, test1))\n",
        "\n",
        "test2 = population_density(864816, 121.4)\n",
        "expected_result2 = 7123.6902801\n",
        "print(\"expected result: {}, actual result: {}\".format(expected_result2, test2))"
      ],
      "execution_count": 1,
      "outputs": [
        {
          "output_type": "stream",
          "text": [
            "expected result: 10, actual result: 10.0\n",
            "expected result: 7123.6902801, actual result: 7123.690280065897\n"
          ],
          "name": "stdout"
        }
      ]
    },
    {
      "cell_type": "code",
      "metadata": {
        "colab": {
          "base_uri": "https://localhost:8080/"
        },
        "id": "yLvuVxud5LnG",
        "outputId": "9d3e5cad-992b-4c50-bf4b-15747b29b435"
      },
      "source": [
        "# write your function here\n",
        "def readable_timedelta(days):\n",
        "    weeks=days//7\n",
        "    remainder=days%7\n",
        "    return \"{} week(s) and {} day(s).\".format(weeks,remainder)\n",
        "\n",
        "# test your function\n",
        "print(readable_timedelta(10))"
      ],
      "execution_count": 2,
      "outputs": [
        {
          "output_type": "stream",
          "text": [
            "1 week(s) and 3 day(s).\n"
          ],
          "name": "stdout"
        }
      ]
    }
  ]
}