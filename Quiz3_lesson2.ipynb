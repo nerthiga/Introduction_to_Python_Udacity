{
  "nbformat": 4,
  "nbformat_minor": 0,
  "metadata": {
    "colab": {
      "name": "Quiz3_lesson2",
      "provenance": [],
      "authorship_tag": "ABX9TyP5s+abMzTovXoLpphhTmUL",
      "include_colab_link": true
    },
    "kernelspec": {
      "name": "python3",
      "display_name": "Python 3"
    }
  },
  "cells": [
    {
      "cell_type": "markdown",
      "metadata": {
        "id": "view-in-github",
        "colab_type": "text"
      },
      "source": [
        "<a href=\"https://colab.research.google.com/github/nerthiga/Introduction_to_Python_Udacity/blob/main/Quiz3_lesson2.ipynb\" target=\"_parent\"><img src=\"https://colab.research.google.com/assets/colab-badge.svg\" alt=\"Open In Colab\"/></a>"
      ]
    },
    {
      "cell_type": "code",
      "metadata": {
        "colab": {
          "base_uri": "https://localhost:8080/"
        },
        "id": "HRkbA9UAC6Ft",
        "outputId": "b8ead13f-e150-4fff-d89e-19472d7f8d2d"
      },
      "source": [
        "## You may test any code out here. Use Test Run to see your output\n",
        "a = [1, 2, 2, 3, 3, 3, 4, 4, 4, 4]\n",
        "b = set(a)\n",
        "print(len(a) - len(b))"
      ],
      "execution_count": null,
      "outputs": [
        {
          "output_type": "stream",
          "text": [
            "6\n"
          ],
          "name": "stdout"
        }
      ]
    },
    {
      "cell_type": "code",
      "metadata": {
        "colab": {
          "base_uri": "https://localhost:8080/"
        },
        "id": "Jt3LdonoDI-i",
        "outputId": "254d5815-e50f-4993-d719-2d756742c1c0"
      },
      "source": [
        "## You may test any code out here. Use Test Run to see your output\n",
        "a = [1, 2, 2, 3, 3, 3, 4, 4, 4, 4]\n",
        "b = set(a)\n",
        "print(b)\n",
        "b.add(5)\n",
        "print(b)\n",
        "b.pop()\n",
        "print(b)"
      ],
      "execution_count": null,
      "outputs": [
        {
          "output_type": "stream",
          "text": [
            "{1, 2, 3, 4}\n",
            "{1, 2, 3, 4, 5}\n",
            "{2, 3, 4, 5}\n"
          ],
          "name": "stdout"
        }
      ]
    },
    {
      "cell_type": "code",
      "metadata": {
        "colab": {
          "base_uri": "https://localhost:8080/"
        },
        "id": "QVu_3m-nP2Ua",
        "outputId": "67c946d1-e361-49ce-e98d-09b478046347"
      },
      "source": [
        "## You may test any code out here. Use Test Run to see your output\n",
        "location = (13.4125, 103.866667)\n",
        "print(\"Latitude:\", location[0])\n",
        "print(\"Longitude:\", location[1])\n",
        "\n",
        "tuple_a = (1,2,3,4,5)\n",
        "tuple_b = 1,2,3,4\n",
        "print(tuple_a[4])\n",
        "print(tuple_a==tuple_b)"
      ],
      "execution_count": null,
      "outputs": [
        {
          "output_type": "stream",
          "text": [
            "Latitude: 13.4125\n",
            "Longitude: 103.866667\n",
            "5\n",
            "False\n"
          ],
          "name": "stdout"
        }
      ]
    },
    {
      "cell_type": "code",
      "metadata": {
        "colab": {
          "base_uri": "https://localhost:8080/"
        },
        "id": "kn9cY89MWFQ_",
        "outputId": "ae97097a-1016-49f9-8642-dce11b36c17e"
      },
      "source": [
        "# Define a Dictionary, population,\n",
        "# that provides information\n",
        "# on the world's largest cities.\n",
        "# The key is the name of a city\n",
        "# (a string), and the associated\n",
        "# value is its population in\n",
        "# millions of people.\n",
        "\n",
        "#   Key     |   Value\n",
        "# Shanghai  |   17.8\n",
        "# Istanbul  |   13.3\n",
        "# Karachi   |   13.0\n",
        "# Mumbai    |   12.5\n",
        "Population = {'Shanghai':17.8, 'Istanbul':13.3, 'Karachi':13.0, 'Mumbai':12.5}\n",
        "print(Population)"
      ],
      "execution_count": null,
      "outputs": [
        {
          "output_type": "stream",
          "text": [
            "{'Shanghai': 17.8, 'Istanbul': 13.3, 'Karachi': 13.0, 'Mumbai': 12.5}\n"
          ],
          "name": "stdout"
        }
      ]
    },
    {
      "cell_type": "code",
      "metadata": {
        "colab": {
          "base_uri": "https://localhost:8080/"
        },
        "id": "JwtwPClFYwLa",
        "outputId": "282098b0-afdb-48d5-aa1b-9a3c2635b0fe"
      },
      "source": [
        "# Test the code here if you'd like\n",
        "a = [1, 2, 3]\n",
        "b = a\n",
        "c = [1, 2, 3]\n",
        "print(a==b)\n",
        "print(a is b)\n",
        "print(a==c)\n",
        "print(a is c)"
      ],
      "execution_count": null,
      "outputs": [
        {
          "output_type": "stream",
          "text": [
            "True\n",
            "True\n",
            "True\n",
            "False\n"
          ],
          "name": "stdout"
        }
      ]
    },
    {
      "cell_type": "code",
      "metadata": {
        "colab": {
          "base_uri": "https://localhost:8080/"
        },
        "id": "GFO_d1SlGdmL",
        "outputId": "71573e44-2f72-4dd7-ec7c-6ba69edc8bf3"
      },
      "source": [
        "animals = {'dogs': [20, 10, 15, 8, 32, 15], \n",
        " 'cats': [3,4,2,8,2,4], \n",
        " 'rabbits': [2, 3, 3], \n",
        " 'fish': [0.3, 0.5, 0.8, 0.3, 1]}\n",
        "\n",
        "print(animals['dogs'])\n",
        "print(animals['fish'])"
      ],
      "execution_count": null,
      "outputs": [
        {
          "output_type": "stream",
          "text": [
            "[20, 10, 15, 8, 32, 15]\n",
            "[0.3, 0.5, 0.8, 0.3, 1]\n"
          ],
          "name": "stdout"
        }
      ]
    },
    {
      "cell_type": "code",
      "metadata": {
        "id": "zPi4aMnTILFt"
      },
      "source": [
        "animals = {'dogs': [20, 10, 15, 8, 32, 15], \n",
        " 'cats': [3,4,2,8,2,4], \n",
        " 'rabbits': [2, 3, 3], \n",
        " 'fish': [0.3, 0.5, 0.8, 0.3, 1]}\n",
        "\n",
        "print(animals['rabbits'][2])\n"
      ],
      "execution_count": null,
      "outputs": []
    },
    {
      "cell_type": "code",
      "metadata": {
        "colab": {
          "base_uri": "https://localhost:8080/"
        },
        "id": "H3OFbwYZAiIQ",
        "outputId": "b223339c-b602-454e-a77b-df4c005299e6"
      },
      "source": [
        "elements = {'hydrogen': {'number': 1, 'weight': 1.00794, 'symbol': 'H'},\n",
        "            'helium': {'number': 2, 'weight': 4.002602, 'symbol': 'He'}}\n",
        "\n",
        "# todo: Add an 'is_noble_gas' entry to the hydrogen and helium dictionaries\n",
        "# hint: helium is a noble gas, hydrogen isn't\n",
        "\n",
        "elements['hydrogen']['is_noble_gas']=False\n",
        "elements['helium']['is_noble_gas']=True\n",
        "\n",
        "print(elements['hydrogen']['is_noble_gas'])\n",
        "print(elements['helium']['is_noble_gas'])\n",
        "print(elements)"
      ],
      "execution_count": 1,
      "outputs": [
        {
          "output_type": "stream",
          "text": [
            "False\n",
            "True\n",
            "{'hydrogen': {'number': 1, 'weight': 1.00794, 'symbol': 'H', 'is_noble_gas': False}, 'helium': {'number': 2, 'weight': 4.002602, 'symbol': 'He', 'is_noble_gas': True}}\n"
          ],
          "name": "stdout"
        }
      ]
    },
    {
      "cell_type": "code",
      "metadata": {
        "colab": {
          "base_uri": "https://localhost:8080/"
        },
        "id": "f93vvmSgEwNB",
        "outputId": "b3a7338d-cccd-453f-dbf9-a48484660815"
      },
      "source": [
        "verse = \"if you can keep your head when all about you are losing theirs and blaming it on you   if you can trust yourself when all men doubt you     but make allowance for their doubting too   if you can wait and not be tired by waiting      or being lied about  don’t deal in lies   or being hated  don’t give way to hating      and yet don’t look too good  nor talk too wise\"\n",
        "print(verse, '\\n')\n",
        "\n",
        "# split verse into list of words\n",
        "verse_list = verse.split()\n",
        "print(verse_list, '\\n')\n",
        "\n",
        "# convert list to a data structure that stores unique elements\n",
        "verse_set =set(verse_list)\n",
        "print(verse_set, '\\n')\n",
        "\n",
        "# print the number of unique words\n",
        "num_unique = len(verse_set)\n",
        "print(num_unique, '\\n')"
      ],
      "execution_count": 2,
      "outputs": [
        {
          "output_type": "stream",
          "text": [
            "if you can keep your head when all about you are losing theirs and blaming it on you   if you can trust yourself when all men doubt you     but make allowance for their doubting too   if you can wait and not be tired by waiting      or being lied about  don’t deal in lies   or being hated  don’t give way to hating      and yet don’t look too good  nor talk too wise \n",
            "\n",
            "['if', 'you', 'can', 'keep', 'your', 'head', 'when', 'all', 'about', 'you', 'are', 'losing', 'theirs', 'and', 'blaming', 'it', 'on', 'you', 'if', 'you', 'can', 'trust', 'yourself', 'when', 'all', 'men', 'doubt', 'you', 'but', 'make', 'allowance', 'for', 'their', 'doubting', 'too', 'if', 'you', 'can', 'wait', 'and', 'not', 'be', 'tired', 'by', 'waiting', 'or', 'being', 'lied', 'about', 'don’t', 'deal', 'in', 'lies', 'or', 'being', 'hated', 'don’t', 'give', 'way', 'to', 'hating', 'and', 'yet', 'don’t', 'look', 'too', 'good', 'nor', 'talk', 'too', 'wise'] \n",
            "\n",
            "{'wait', 'in', 'doubting', 'good', 'you', 'look', 'for', 'trust', 'but', 'waiting', 'hating', 'men', 'wise', 'by', 'head', 'make', 'being', 'your', 'about', 'losing', 'theirs', 'hated', 'way', 'yet', 'allowance', 'keep', 'can', 'too', 'blaming', 'their', 'be', 'or', 'nor', 'on', 'it', 'all', 'talk', 'when', 'to', 'are', 'give', 'doubt', 'not', 'lies', 'lied', 'deal', 'and', 'if', 'tired', 'yourself', 'don’t'} \n",
            "\n",
            "51 \n",
            "\n"
          ],
          "name": "stdout"
        }
      ]
    },
    {
      "cell_type": "code",
      "metadata": {
        "colab": {
          "base_uri": "https://localhost:8080/"
        },
        "id": "8yK2MT9XIowD",
        "outputId": "b341a8dc-d3f0-4c63-90be-8a91ad5ec1ab"
      },
      "source": [
        "verse_dict =  {'if': 3, 'you': 6, 'can': 3, 'keep': 1, 'your': 1, 'head': 1, 'when': 2, 'all': 2, 'about': 2, 'are': 1, 'losing': 1, 'theirs': 1, 'and': 3, 'blaming': 1, 'it': 1, 'on': 1, 'trust': 1, 'yourself': 1, 'men': 1, 'doubt': 1, 'but': 1, 'make': 1, 'allowance': 1, 'for': 1, 'their': 1, 'doubting': 1, 'too': 3, 'wait': 1, 'not': 1, 'be': 1, 'tired': 1, 'by': 1, 'waiting': 1, 'or': 2, 'being': 2, 'lied': 1, 'don\\'t': 3, 'deal': 1, 'in': 1, 'lies': 1, 'hated': 1, 'give': 1, 'way': 1, 'to': 1, 'hating': 1, 'yet': 1, 'look': 1, 'good': 1, 'nor': 1, 'talk': 1, 'wise': 1}\n",
        "print(verse_dict, '\\n')\n",
        "\n",
        "# find number of unique keys in the dictionary\n",
        "num_keys = len(verse_dict)\n",
        "print(num_keys)\n",
        "\n",
        "# find whether 'breathe' is a key in the dictionary\n",
        "contains_breathe = (verse_dict.get('breathe'))\n",
        "print(contains_breathe)\n",
        "\n",
        "# create and sort a list of the dictionary's keys\n",
        "sorted_keys = sorted(verse_dict.keys())\n",
        "\n",
        "# get the first element in the sorted list of keys\n",
        "print(sorted_keys[0])\n",
        "\n",
        "# find the element with the highest value in the list of keys\n",
        "print(sorted_keys[-1]) "
      ],
      "execution_count": 3,
      "outputs": [
        {
          "output_type": "stream",
          "text": [
            "{'if': 3, 'you': 6, 'can': 3, 'keep': 1, 'your': 1, 'head': 1, 'when': 2, 'all': 2, 'about': 2, 'are': 1, 'losing': 1, 'theirs': 1, 'and': 3, 'blaming': 1, 'it': 1, 'on': 1, 'trust': 1, 'yourself': 1, 'men': 1, 'doubt': 1, 'but': 1, 'make': 1, 'allowance': 1, 'for': 1, 'their': 1, 'doubting': 1, 'too': 3, 'wait': 1, 'not': 1, 'be': 1, 'tired': 1, 'by': 1, 'waiting': 1, 'or': 2, 'being': 2, 'lied': 1, \"don't\": 3, 'deal': 1, 'in': 1, 'lies': 1, 'hated': 1, 'give': 1, 'way': 1, 'to': 1, 'hating': 1, 'yet': 1, 'look': 1, 'good': 1, 'nor': 1, 'talk': 1, 'wise': 1} \n",
            "\n",
            "51\n",
            "None\n",
            "about\n",
            "yourself\n"
          ],
          "name": "stdout"
        }
      ]
    }
  ]
}