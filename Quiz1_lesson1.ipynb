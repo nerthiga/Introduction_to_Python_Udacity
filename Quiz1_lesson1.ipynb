{
  "nbformat": 4,
  "nbformat_minor": 0,
  "metadata": {
    "colab": {
      "name": "Quiz1_lesson1.ipynb",
      "provenance": [],
      "collapsed_sections": [],
      "authorship_tag": "ABX9TyP8w/2JzDk4eUiyHl+YNRJu",
      "include_colab_link": true
    },
    "kernelspec": {
      "name": "python3",
      "display_name": "Python 3"
    }
  },
  "cells": [
    {
      "cell_type": "markdown",
      "metadata": {
        "id": "view-in-github",
        "colab_type": "text"
      },
      "source": [
        "<a href=\"https://colab.research.google.com/github/nerthiga/Introduction_to_Python_Udacity/blob/main/Quiz1_lesson1.ipynb\" target=\"_parent\"><img src=\"https://colab.research.google.com/assets/colab-badge.svg\" alt=\"Open In Colab\"/></a>"
      ]
    },
    {
      "cell_type": "code",
      "metadata": {
        "colab": {
          "base_uri": "https://localhost:8080/"
        },
        "id": "jYeJ8n6-vYsD",
        "outputId": "9536da50-ca39-41b8-a9aa-8c8ddf20031c"
      },
      "source": [
        "# Write an expression that calculates the average of 23, 32 and 64\n",
        "# Place the expression in this print statement\n",
        "print((23+32+64)/3)\n"
      ],
      "execution_count": 1,
      "outputs": [
        {
          "output_type": "stream",
          "text": [
            "39.666666666666664\n"
          ],
          "name": "stdout"
        }
      ]
    },
    {
      "cell_type": "code",
      "metadata": {
        "colab": {
          "base_uri": "https://localhost:8080/"
        },
        "id": "jpfWmGld2_1v",
        "outputId": "c8ab5f8a-113c-4d8d-9b69-aa0f9000b140"
      },
      "source": [
        "# Fill this in with an expression that calculates how many tiles are needed.\n",
        "print((9*7)+(5*7))\n",
        "\n",
        "# Fill this in with an expression that calculates how many tiles will be left over\n",
        "print((17*6)%((9*7)+(5*7)))"
      ],
      "execution_count": 2,
      "outputs": [
        {
          "output_type": "stream",
          "text": [
            "98\n",
            "4\n"
          ],
          "name": "stdout"
        }
      ]
    }
  ]
}