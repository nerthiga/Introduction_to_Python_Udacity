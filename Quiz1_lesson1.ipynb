{
  "nbformat": 4,
  "nbformat_minor": 0,
  "metadata": {
    "colab": {
      "name": "Quiz1_lesson1.ipynb",
      "provenance": [],
      "authorship_tag": "ABX9TyOW+/eV84dY5e1BJixjkBnQ",
      "include_colab_link": true
    },
    "kernelspec": {
      "name": "python3",
      "display_name": "Python 3"
    }
  },
  "cells": [
    {
      "cell_type": "markdown",
      "metadata": {
        "id": "view-in-github",
        "colab_type": "text"
      },
      "source": [
        "<a href=\"https://colab.research.google.com/github/nerthiga/Introduction_to_Python_Udacity/blob/main/Quiz1_lesson1.ipynb\" target=\"_parent\"><img src=\"https://colab.research.google.com/assets/colab-badge.svg\" alt=\"Open In Colab\"/></a>"
      ]
    },
    {
      "cell_type": "code",
      "metadata": {
        "colab": {
          "base_uri": "https://localhost:8080/"
        },
        "id": "B-7ujmaAPuky",
        "outputId": "2f083b2f-1d80-48af-e7d7-b0f456d03ee4"
      },
      "source": [
        "points = 174  # use this input to make your submission\n",
        "\n",
        "# write your if statement here\n",
        "if points<=50:\n",
        "    prize_name=\"wooden rabbit\"\n",
        "elif points<=150:\n",
        "    prize_name=\"Oh dear, no prize this time\"\n",
        "elif points<=180:\n",
        "    prize_name=\"wafer-thin mint\"\n",
        "else: prize_name=\"penguin\"\n",
        "result=\"Congratulations, you won a {}.\".format(prize_name)\n",
        "\n",
        "print(result)"
      ],
      "execution_count": 1,
      "outputs": [
        {
          "output_type": "stream",
          "text": [
            "Congratulations, you won a wafer-thin mint.\n"
          ],
          "name": "stdout"
        }
      ]
    },
    {
      "cell_type": "code",
      "metadata": {
        "colab": {
          "base_uri": "https://localhost:8080/"
        },
        "id": "pSGppFPaTj9G",
        "outputId": "2163e9ab-c507-4181-b272-3eb1e276e4ae"
      },
      "source": [
        "# You decide you want to play a game where you are hiding \n",
        "# a number from someone.  Store this number in a variable \n",
        "# called 'answer'.  Another user provides a number called\n",
        "# 'guess'.  By comparing guess to answer, you inform the user\n",
        "# if their guess is too high or too low.\n",
        "\n",
        "# Fill in the conditionals below to inform the user about how\n",
        "# their guess compares to the answer.\n",
        "# '''\n",
        "answer = 50\n",
        "guess = 100\n",
        "\n",
        "if guess<answer:\n",
        "    result = \"Oops!  Your guess was too low.\"\n",
        "elif guess>answer:\n",
        "    result = \"Oops!  Your guess was too high.\"\n",
        "elif guess==answer:\n",
        "    result = \"Nice!  Your guess matched the answer!\"\n",
        "\n",
        "print(result)"
      ],
      "execution_count": 2,
      "outputs": [
        {
          "output_type": "stream",
          "text": [
            "Oops!  Your guess was too high.\n"
          ],
          "name": "stdout"
        }
      ]
    }
  ]
}