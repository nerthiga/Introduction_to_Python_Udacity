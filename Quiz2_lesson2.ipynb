{
  "nbformat": 4,
  "nbformat_minor": 0,
  "metadata": {
    "colab": {
      "name": "Quiz2_lesson2.ipynb",
      "provenance": [],
      "authorship_tag": "ABX9TyPuK+/GspkDZ66re0vs4K1g",
      "include_colab_link": true
    },
    "kernelspec": {
      "name": "python3",
      "display_name": "Python 3"
    }
  },
  "cells": [
    {
      "cell_type": "markdown",
      "metadata": {
        "id": "view-in-github",
        "colab_type": "text"
      },
      "source": [
        "<a href=\"https://colab.research.google.com/github/nerthiga/Introduction_to_Python_Udacity/blob/main/Quiz2_lesson2.ipynb\" target=\"_parent\"><img src=\"https://colab.research.google.com/assets/colab-badge.svg\" alt=\"Open In Colab\"/></a>"
      ]
    },
    {
      "cell_type": "code",
      "metadata": {
        "colab": {
          "base_uri": "https://localhost:8080/"
        },
        "id": "HRkbA9UAC6Ft",
        "outputId": "b8ead13f-e150-4fff-d89e-19472d7f8d2d"
      },
      "source": [
        "## You may test any code out here. Use Test Run to see your output\n",
        "a = [1, 2, 2, 3, 3, 3, 4, 4, 4, 4]\n",
        "b = set(a)\n",
        "print(len(a) - len(b))"
      ],
      "execution_count": 1,
      "outputs": [
        {
          "output_type": "stream",
          "text": [
            "6\n"
          ],
          "name": "stdout"
        }
      ]
    }
  ]
}