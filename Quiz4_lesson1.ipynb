{
  "nbformat": 4,
  "nbformat_minor": 0,
  "metadata": {
    "colab": {
      "name": "Quiz4_lesson1.ipynb",
      "provenance": [],
      "authorship_tag": "ABX9TyN6Ra6f9sdl6Tq0fk44xxlQ",
      "include_colab_link": true
    },
    "kernelspec": {
      "name": "python3",
      "display_name": "Python 3"
    }
  },
  "cells": [
    {
      "cell_type": "markdown",
      "metadata": {
        "id": "view-in-github",
        "colab_type": "text"
      },
      "source": [
        "<a href=\"https://colab.research.google.com/github/nerthiga/Introduction_to_Python_Udacity/blob/main/Quiz4_lesson1.ipynb\" target=\"_parent\"><img src=\"https://colab.research.google.com/assets/colab-badge.svg\" alt=\"Open In Colab\"/></a>"
      ]
    },
    {
      "cell_type": "code",
      "metadata": {
        "colab": {
          "base_uri": "https://localhost:8080/"
        },
        "id": "aUMFgEuUsK-v",
        "outputId": "f9c157e2-5893-4cee-a9e4-d5080da41dbe"
      },
      "source": [
        "print(type(\"12\"))\n",
        "print(type(12.3))\n",
        "print(type(len(\"my_string\")))\n",
        "print(type(\"hippo\" * 12))\n",
        "print(type(\"5\"*0))\n",
        "print(type(\"0\"*5))\n",
        "print(type(True))\n",
        "print(\"0\"*5)"
      ],
      "execution_count": 1,
      "outputs": [
        {
          "output_type": "stream",
          "text": [
            "<class 'str'>\n",
            "<class 'float'>\n",
            "<class 'int'>\n",
            "<class 'str'>\n",
            "<class 'str'>\n",
            "<class 'str'>\n",
            "<class 'bool'>\n",
            "00000\n"
          ],
          "name": "stdout"
        }
      ]
    },
    {
      "cell_type": "code",
      "metadata": {
        "colab": {
          "base_uri": "https://localhost:8080/"
        },
        "id": "nhPFw1I_wPyx",
        "outputId": "fba2268d-257c-48dc-ed12-d24657fbe1af"
      },
      "source": [
        "mon_sales = \"121\"\n",
        "tues_sales = \"105\"\n",
        "wed_sales = \"110\"\n",
        "thurs_sales = \"98\"\n",
        "fri_sales = \"95\"\n",
        "\n",
        "#TODO: Print a string with this format: This week's total sales: xxx\n",
        "# You will probably need to write some lines of code before the print statement.\n",
        "mon_sales = int(mon_sales)\n",
        "tues_sales = int(tues_sales)\n",
        "wed_sales = int(wed_sales)\n",
        "thurs_sales = int(thurs_sales)\n",
        "fri_sales = int(fri_sales)\n",
        "Total_sales = mon_sales+tues_sales+wed_sales+thurs_sales+fri_sales \n",
        "print(str(\"This week's total sales:\") + \" \" + str(Total_sales))\n"
      ],
      "execution_count": 2,
      "outputs": [
        {
          "output_type": "stream",
          "text": [
            "This week's total sales: 529\n"
          ],
          "name": "stdout"
        }
      ]
    }
  ]
}