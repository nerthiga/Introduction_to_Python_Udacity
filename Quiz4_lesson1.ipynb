{
  "nbformat": 4,
  "nbformat_minor": 0,
  "metadata": {
    "colab": {
      "name": "Quiz4_lesson1.ipynb",
      "provenance": [],
      "authorship_tag": "ABX9TyPFNjJoAFm7vEvRAoSPCm2g",
      "include_colab_link": true
    },
    "kernelspec": {
      "name": "python3",
      "display_name": "Python 3"
    }
  },
  "cells": [
    {
      "cell_type": "markdown",
      "metadata": {
        "id": "view-in-github",
        "colab_type": "text"
      },
      "source": [
        "<a href=\"https://colab.research.google.com/github/nerthiga/Introduction_to_Python_Udacity/blob/main/Quiz4_lesson1.ipynb\" target=\"_parent\"><img src=\"https://colab.research.google.com/assets/colab-badge.svg\" alt=\"Open In Colab\"/></a>"
      ]
    },
    {
      "cell_type": "code",
      "metadata": {
        "colab": {
          "base_uri": "https://localhost:8080/"
        },
        "id": "aUMFgEuUsK-v",
        "outputId": "f9c157e2-5893-4cee-a9e4-d5080da41dbe"
      },
      "source": [
        "print(type(\"12\"))\n",
        "print(type(12.3))\n",
        "print(type(len(\"my_string\")))\n",
        "print(type(\"hippo\" * 12))\n",
        "print(type(\"5\"*0))\n",
        "print(type(\"0\"*5))\n",
        "print(type(True))\n",
        "print(\"0\"*5)"
      ],
      "execution_count": 1,
      "outputs": [
        {
          "output_type": "stream",
          "text": [
            "<class 'str'>\n",
            "<class 'float'>\n",
            "<class 'int'>\n",
            "<class 'str'>\n",
            "<class 'str'>\n",
            "<class 'str'>\n",
            "<class 'bool'>\n",
            "00000\n"
          ],
          "name": "stdout"
        }
      ]
    }
  ]
}